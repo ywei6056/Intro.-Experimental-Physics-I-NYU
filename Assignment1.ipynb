{
  "nbformat": 4,
  "nbformat_minor": 0,
  "metadata": {
    "colab": {
      "provenance": [],
      "include_colab_link": true
    },
    "kernelspec": {
      "name": "python3",
      "display_name": "Python 3"
    },
    "language_info": {
      "name": "python"
    }
  },
  "cells": [
    {
      "cell_type": "markdown",
      "metadata": {
        "id": "view-in-github",
        "colab_type": "text"
      },
      "source": [
        "<a href=\"https://colab.research.google.com/github/ywei6056/Intro.-Experimental-Physics-I-NYU/blob/main/Assignment1.ipynb\" target=\"_parent\"><img src=\"https://colab.research.google.com/assets/colab-badge.svg\" alt=\"Open In Colab\"/></a>"
      ]
    },
    {
      "cell_type": "markdown",
      "metadata": {
        "id": "ahbTW1_f4AI5"
      },
      "source": [
        "#[Introduction to Python for Science and Engineering](https://www.taylorfrancis.com/books/mono/10.1201/9780429506413/introduction-python-science-engineering-david-pine)\n",
        "\n",
        "###The following exercises were reproduced from David Pine's Python Manual: [chapter 2: Launching Python](https://www.taylorfrancis.com/chapters/mono/10.1201/9780429506413-2/launching-python-david-pine) and adapted and extended by Paul McNulty and Marc Gershow\n",
        "[previous version of manual, accessible without library access](https://physics.nyu.edu/pine/pymanual/html/pymanMaster.html)\n",
        "\n",
        "[previous version of chapter 2](https://physics.nyu.edu/pine/pymanual/html/chap2/chap2_basics.html) "
      ]
    },
    {
      "cell_type": "code",
      "metadata": {
        "id": "0vmwmUzsjY6j"
      },
      "source": [
        "##RUN THIS CODE BLOCK FIRST - it brings in functions like sin, cos, log, ... \n",
        "#in the future, we'll do things slightly differently to make your code more robust and portable...\n",
        "from numpy import *"
      ],
      "execution_count": null,
      "outputs": []
    },
    {
      "cell_type": "markdown",
      "metadata": {
        "id": "AY3ov0Ni4yTV"
      },
      "source": [
        "##2.12.1\n",
        "\n",
        "A ball is thrown vertically up in the air from a height $h_0$ above the ground at an initial velocity $v_0$. Its subsequent height $h$ and velocity $v$ are given by the equations\n",
        "\n",
        "$h = h_0 + v_0 t - \\frac{1}{2}gt^2$\n",
        "\n",
        "$v = v_0 - gt$\n",
        "\n",
        "where $g=9.8$ is the acceleration due to gravity in m/s$^2$. Write code that finds the height $h$ and velocity $v$ at a time $t$ after the ball is thrown. Start by setting $h_0=1.2$ (meters) and $v_0 = 5.4$ (m/s) and have your code print out the values of height and velocity (see _[Note about printing](https://physics.nyu.edu/pine/pymanual/html/chap2/chap2_basics.html#printnote)_). First print the height and velocity after 0.5 seconds. Then add more code to find them after 2.0 seconds.\n",
        "\n",
        "When you execute the code block you write below, there should be 4 numbers output, each on its own line. If you want to be fancy, you could make the script write something like\n",
        "\n",
        "h(0.5) = 2.7\n",
        "\n",
        "but\n",
        "\n",
        "2.7 \n",
        "\n",
        "would also be fine, as would\n",
        "\n",
        "2.675000000 \n",
        "\n",
        "In other words, we don't care how your answer is formatted (for now). You will probably find it's easiest to cut and paste a large portion of your answer to the t = 0.5 section to calculate the t = 2.0 answer. *What code do you have to recopy and what stays the same?* This is OK for now, but at the end of the assingment you'll learn a better way to make your code reusable"
      ]
    },
    {
      "cell_type": "code",
      "metadata": {
        "id": "aDl-k0Fk2eb4",
        "colab": {
          "base_uri": "https://localhost:8080/"
        },
        "outputId": "8d438b09-57b5-4673-81b4-528abe7ba7fe"
      },
      "source": [
        "g = 9.8 #m/s^2\n",
        "h0 = 1.2 #m\n",
        "v0 = 5.4 #m/s\n",
        "t = 0.5\n",
        "\n",
        "h = (h0) + (v0)*(t)-(1/2)*(g)*(t)**2\n",
        "v = (v0) - (g)*(t)\n",
        "\n",
        "print(f'h({t:.1f}) = {h:.1f}')\n",
        "print(f'v({t:.1f}) = {v:.1f}')\n",
        "\n",
        "t = 2.0\n",
        "h = (h0) + (v0)*(t)-(1/2)*(g)*(t)**2\n",
        "v = (v0) - (g)*(t)\n",
        "print(f'h({t:.1f}) = {h:.1f}')\n",
        "print(f'v({t:.1f}) = {v:.1f}')"
      ],
      "execution_count": null,
      "outputs": [
        {
          "output_type": "stream",
          "name": "stdout",
          "text": [
            "h(0.5) = 2.7\n",
            "v(0.5) = 0.5\n",
            "h(2.0) = -7.6\n",
            "v(2.0) = -14.2\n"
          ]
        }
      ]
    },
    {
      "cell_type": "markdown",
      "metadata": {
        "id": "_2EqELbY8b7X"
      },
      "source": [
        "##2.12.2\n",
        "\n",
        "Write a script that defines the variables $V_0 = 10$, $a=2.5$, and $z=4\\frac{1}{3}$, and then evaluates the expression\n",
        "\n",
        "$V = V_0 \\left(1-\\frac{z}{\\sqrt{a^2 + z^2}}\\right)$\n",
        "\n",
        "Then find $V$ for $z=8\\frac{2}{3}$ and print it out (see _[Note about printing](https://physics.nyu.edu/pine/pymanual/html/chap2/chap2_basics.html#printnote)_). Then find $V$ for $z=13$ by changing the value of $z$ in your script.\n",
        "\n",
        "Again, you don't have to worry about how your answer is formatted"
      ]
    },
    {
      "cell_type": "code",
      "metadata": {
        "id": "Ogchuuc19T0K",
        "colab": {
          "base_uri": "https://localhost:8080/"
        },
        "outputId": "f63cf0c1-78f8-42ee-8c81-31c88ce949f6"
      },
      "source": [
        "from fractions import Fraction\n",
        "#Note to self: initially wanted to use Fraction to represent z/(sqrt(a^2+z^2)) but only takes rational numbers i.e. integers for num and de arguments. Thus, sqrt(a^2+z^2)cannot be inputed into denominator.\n",
        "\n",
        "V0 = 10\n",
        "a = 2.5\n",
        "z = Fraction(3*4+1, 3)\n",
        "\n",
        "V = (V0)*(1-(z/sqrt(a**2+z**2)))\n",
        "\n",
        "print(f'V = {V:.2f}')\n",
        "\n",
        "z = Fraction(8*3+2, 3)\n",
        "V = (V0)*(1-(z/sqrt(a**2+z**2)))\n",
        "print(f'V = {V:.2f}')\n",
        "\n",
        "z = 13\n",
        "V = (V0)*(1-(z/sqrt(a**2+z**2)))\n",
        "print(f'V = {V:.2f}')\n"
      ],
      "execution_count": null,
      "outputs": [
        {
          "output_type": "stream",
          "name": "stdout",
          "text": [
            "V = 1.34\n",
            "V = 0.39\n",
            "V = 0.18\n"
          ]
        }
      ]
    },
    {
      "cell_type": "markdown",
      "metadata": {
        "id": "xAEZpywo9aCz"
      },
      "source": [
        "##2.12.3\n",
        "\n",
        "In the code block below, write code that calculates the following expressions:\n",
        "\n",
        "1. $a = \\frac{2 + e^{2.8}}{\\sqrt{13}-2}$\n",
        "1. $b = \\frac{1 - \\left(1 + \\ln{2}\\right)^{-3.5}}{1+\\sqrt{5}}$\n",
        "1. $c = \\sin{\\left(\\frac{2-\\sqrt{2}}{2+\\sqrt{2}}\\right)}$\n",
        "\n",
        "After running this code block, typing $a$, $b$, or $c$ in the next code block, followed by shift+return should yield the value of the expressions in (a), (b), or (c), respectively."
      ]
    },
    {
      "cell_type": "code",
      "metadata": {
        "id": "Q9kTXVhI-xwB",
        "colab": {
          "base_uri": "https://localhost:8080/"
        },
        "outputId": "58b2d3b9-ac7f-4c19-bd33-c5aaee075078"
      },
      "source": [
        "from numpy import math #for the natural log function\n",
        "\n",
        "a = (2+math.e**2.8)/(math.sqrt(13)-2)\n",
        "print(f'a = {a:.3f}')\n",
        "\n",
        "b = (1-(1+math.log(2))**(-3.5))/(1+math.sqrt(5))\n",
        "print(f'b = {b:.3f}')\n",
        "\n",
        "c = math.sin((2-math.sqrt(2))/(2+math.sqrt(2)))\n",
        "print(f'c = {c:.3f}')\n",
        "\n"
      ],
      "execution_count": null,
      "outputs": [
        {
          "output_type": "stream",
          "name": "stdout",
          "text": [
            "a = 11.488\n",
            "b = 0.260\n",
            "c = 0.171\n"
          ]
        }
      ]
    },
    {
      "cell_type": "code",
      "metadata": {
        "id": "k1dF3p4ylItJ",
        "colab": {
          "base_uri": "https://localhost:8080/"
        },
        "outputId": "63fd9b6d-a663-4eac-81ed-5c00f4494f44"
      },
      "source": [
        "a\n"
      ],
      "execution_count": null,
      "outputs": [
        {
          "output_type": "execute_result",
          "data": {
            "text/plain": [
              "11.488045914800644"
            ]
          },
          "metadata": {},
          "execution_count": 65
        }
      ]
    },
    {
      "cell_type": "markdown",
      "metadata": {
        "id": "g4z-30W2-7ql"
      },
      "source": [
        "##2.12.4\n",
        "\n",
        "A quadratic equation with the general form\n",
        "\n",
        "$ax^2 + bx + c = 0$\n",
        "\n",
        "has two solutions given by the quadratic formula\n",
        "\n",
        "$x = \\frac{-b \\pm \\sqrt{b^2 - 4ac}}{2a}$.\n",
        "\n",
        "1. Given $a$, $b$, and $c$ as inputs, write code that gives the numerical values of the two solutions. Write the constants $a$, $b$, and $c$ as floats, and show that your script gives the correct solutions for a few test cases when the solutions are real numbers, that is, when the discriminant $b^2-4ac\\geq 0$. Use the `print` function in your script, discussed at the end of Section 2.8.1 _[Scripting Example 1](https://physics.nyu.edu/pine/pymanual/html/chap2/chap2_basics.html#chap2-scriptexmp1)_, to print out your two solutions.\n",
        "1. Written this way, however, your script gives an error message when the solutions are complex. For example, see what happens when $a=1$, $b=2$, and $c=3$. You can fix this using statements in your script like $a = a+0j$ after setting $a$ to some float value. Thus, you can make the script work for any set of real inputs for $a$, $b$, and $c$. Again, use the `print` function to print out your two solutions."
      ]
    },
    {
      "cell_type": "code",
      "metadata": {
        "id": "r-5EIrnNCZGm",
        "colab": {
          "base_uri": "https://localhost:8080/"
        },
        "outputId": "7e8133fe-a124-402a-f869-c8193f7f127f"
      },
      "source": [
        "#test 1\n",
        "a = float(1)\n",
        "b = float(-8)\n",
        "c = float(16)\n",
        "\n",
        "x1 = (-b + sqrt((b**2) - (4*a*c)))/(2*a)\n",
        "x2 = (-b - sqrt((b**2) - (4*a*c)))/(2*a)\n",
        "\n",
        "print (\"(\", float(x1), \",\", float(x2), \")\")\n",
        "\n",
        "#test 2\n",
        "a = float(-1)\n",
        "b = float(0)\n",
        "c = float(9)\n",
        "\n",
        "x1 = (-b + sqrt((b**2) - (4*a*c)))/(2*a)\n",
        "x2 = (-b - sqrt((b**2) - (4*a*c)))/(2*a)\n",
        "\n",
        "print (\"(\", float(x1), \",\", float(x2), \")\")\n",
        "\n",
        "#test 3 complex solutions\n",
        "a = 1 + 0j\n",
        "b = 2 + 0j\n",
        "c = 3 + 0j\n",
        "\n",
        "x1 = (-b + sqrt((b**2) - (4*a*c)))/(2*a)\n",
        "x2 = (-b - sqrt((b**2) - (4*a*c)))/(2*a)\n",
        "\n",
        "print (x1, x2)"
      ],
      "execution_count": null,
      "outputs": [
        {
          "output_type": "stream",
          "name": "stdout",
          "text": [
            "( 4.0 , 4.0 )\n",
            "( -3.0 , 3.0 )\n",
            "(-1+1.4142135623730951j) (-1-1.4142135623730951j)\n"
          ]
        }
      ]
    },
    {
      "cell_type": "markdown",
      "metadata": {
        "id": "GAG8o-bFl3z5"
      },
      "source": [
        "#LOOKING AHEAD: FUNCTIONS\n",
        "\n",
        "It sure is a pain having to cut and paste or retype the same code over and over again, and it makes it really easy to make mistakes; what if you didn't type in a value of a in 2.12.4? The computer would happily use the value you calculated in 2.12.3 earlier.\n",
        "\n",
        "**Functions** make your code reusable! The Pine manual introduces functions very late ([in chapter 7](https://www.taylorfrancis.com/chapters/mono/10.1201/9780429506413-7/functions-david-pine)) compared to most books. \n",
        "\n",
        "Let's look at redoing 2.12.4 using a function\n",
        "\n"
      ]
    },
    {
      "cell_type": "code",
      "metadata": {
        "colab": {
          "base_uri": "https://localhost:8080/"
        },
        "id": "ENAUMSDRlVSh",
        "outputId": "ccab5d13-edb0-4f52-d884-c56b0ef3415e"
      },
      "source": [
        "def printQuadraticSolution(a,b,c):\n",
        "  a = a+0j #make the number complex to allow for complex solutions\n",
        "  x1 = (-b + sqrt(b**2 - 4*a*c))/(2*a)\n",
        "  x2 = (-b - sqrt(b**2 - 4*a*c))/(2*a)\n",
        "  print(\"The solutions are {} and {}\".format(x1,x2))\n",
        "\n",
        "printQuadraticSolution(1,2,3)\n",
        "printQuadraticSolution(1, 2, 1)"
      ],
      "execution_count": null,
      "outputs": [
        {
          "output_type": "stream",
          "text": [
            "The solutions are (-1+1.4142135623730951j) and You need to write this line\n",
            "The solutions are (-1+0j) and You need to write this line\n"
          ],
          "name": "stdout"
        }
      ]
    },
    {
      "cell_type": "markdown",
      "metadata": {
        "id": "7YwAtxlSsltz"
      },
      "source": [
        "The function definition looks like this\n",
        "  1. the keyword def (for define) that tells you you're about to write a function\n",
        "  2. the name of the function ( \"printQuadraticSolution\" )\n",
        "  3. the arguments to the function (a, b, c) - what you will \"pass\" to the function to give it the information it needs to know to run\n",
        "  4. a colon : which has to be there as the last part of the first line\n",
        "  5. the rest of the code, which is all **indented**. Python uses indentation to say what is part of the function and what isn't\n",
        "\n",
        "  Now please fix the line \"x2 = ....\" above to calculate the other solution, then test it out with a few new values below"
      ]
    },
    {
      "cell_type": "code",
      "metadata": {
        "id": "nsS-yLb6sk89",
        "colab": {
          "base_uri": "https://localhost:8080/"
        },
        "outputId": "38549c54-6bfe-4c35-b86c-7de0e8897fde"
      },
      "source": [
        "def PrintSolveQuadratics(a,b,c):\n",
        "  a = a + 0j\n",
        "  b = b + 0j\n",
        "  c = c + 0j\n",
        "  x1 = (-b + sqrt((b**2) - (4*a*c)))/(2*a)\n",
        "  x2 = (-b - sqrt((b**2) - (4*a*c)))/(2*a)\n",
        "  print('The solutions are {} and {}'.format(x1, x2))\n",
        "\n",
        "\n",
        "PrintSolveQuadratics(1,3,2)\n",
        "\n",
        "PrintSolveQuadratics(1,2,3)\n",
        "\n"
      ],
      "execution_count": null,
      "outputs": [
        {
          "output_type": "stream",
          "name": "stdout",
          "text": [
            "The solutions are (-1+0j) and (-2+0j)\n",
            "The solutions are (-1+1.4142135623730951j) and (-1-1.4142135623730951j)\n"
          ]
        }
      ]
    },
    {
      "cell_type": "markdown",
      "metadata": {
        "id": "Wy1Kh9KTMTfI"
      },
      "source": [
        "##Functions can return results\n",
        "\n",
        "When you type y = sin(x), you are calling a function ( sin ). You pass a value to the function ( x ) and you get something back, the sine of x, in return. When a function **returns** a value, you use the keyword **return** at the **end** of the function to say what it is\n",
        "\n",
        "In Python a function can return multiple values.\n",
        "\n",
        "For instance, instead of printing out the two solutions to the quadratic equation, we could write a function that **returns** them to us to use later"
      ]
    },
    {
      "cell_type": "code",
      "metadata": {
        "colab": {
          "base_uri": "https://localhost:8080/"
        },
        "id": "c4x_uiYdNczN",
        "outputId": "cdb808fb-295a-430e-e767-bb451ce21019"
      },
      "source": [
        "def getQuadraticSolution(a,b,c):\n",
        "  a = a+0j #make the number complex to allow for complex solutions\n",
        "  x1 = (-b + sqrt(b**2 - 4*a*c))/(2*a)\n",
        "  x2 = (-b - sqrt(b**2 - 4*a*c))/(2*a)\n",
        "  return (x1,x2)\n",
        "\n",
        "(x1,x2) = getQuadraticSolution(1,5,6)\n",
        "print(\"The two solutions returned by getQuadraticSolution were x1 = {} and x2 = {}\".format(x1,x2))"
      ],
      "execution_count": null,
      "outputs": [
        {
          "output_type": "stream",
          "name": "stdout",
          "text": [
            "The two solutions returned by getQuadraticSolution were x1 = (-2+0j) and x2 = (-3+0j)\n"
          ]
        }
      ]
    },
    {
      "cell_type": "markdown",
      "metadata": {
        "id": "UDOJG4OdN9gV"
      },
      "source": [
        "*Test your knowledge:* See if you can use a function to redo the first problem without so much cutting and pasting. I'll get you started"
      ]
    },
    {
      "cell_type": "code",
      "metadata": {
        "id": "5ozi5KXPN6Om",
        "colab": {
          "base_uri": "https://localhost:8080/"
        },
        "outputId": "6bd084e8-2af7-475d-95e7-9a3f33d1a55c"
      },
      "source": [
        "def ballHeightAndVelocity (h0, v0, g, t):\n",
        "  ## your code here\n",
        "  h = (h0) + (v0)*(t)-(1/2)*(g)*(t)**2\n",
        "  v = (v0) - (g)*(t)\n",
        "  return (h,v, t)\n",
        "\n",
        "\n",
        "(h, v, t) = ballHeightAndVelocity(1.2, 5.4, 9.8, 0.5)\n",
        "print(\"The ball has a height of {:.3f} meters and velocity of {:.3f} meters per second {:.3f} seconds after its launch\".format(h, v, t))\n",
        "\n",
        "\n",
        "(h, v, t) = ballHeightAndVelocity(1.2, 5.4, 9.8, 2.0)\n",
        "print(\"The ball has a height of {:.3f} meters and velocity of {:.3f} meters per second {:.3f} seconds after its launch\".format(h, v, t))\n"
      ],
      "execution_count": null,
      "outputs": [
        {
          "output_type": "stream",
          "name": "stdout",
          "text": [
            "The ball has a height of 2.675 meters and velocity of 0.500 meters per second 0.500 seconds after its launch\n",
            "The ball has a height of -7.600 meters and velocity of -14.200 meters per second 2.000 seconds after its launch\n"
          ]
        }
      ]
    },
    {
      "cell_type": "code",
      "source": [],
      "metadata": {
        "id": "M1VZe0_onZ84"
      },
      "execution_count": null,
      "outputs": []
    }
  ]
}