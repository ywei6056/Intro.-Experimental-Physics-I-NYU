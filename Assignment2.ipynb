{
  "nbformat": 4,
  "nbformat_minor": 0,
  "metadata": {
    "colab": {
      "provenance": [],
      "include_colab_link": true
    },
    "kernelspec": {
      "name": "python3",
      "display_name": "Python 3"
    },
    "language_info": {
      "name": "python"
    }
  },
  "cells": [
    {
      "cell_type": "markdown",
      "metadata": {
        "id": "view-in-github",
        "colab_type": "text"
      },
      "source": [
        "<a href=\"https://colab.research.google.com/github/ywei6056/Intro.-Experimental-Physics-I-NYU/blob/main/Assignment2.ipynb\" target=\"_parent\"><img src=\"https://colab.research.google.com/assets/colab-badge.svg\" alt=\"Open In Colab\"/></a>"
      ]
    },
    {
      "cell_type": "markdown",
      "metadata": {
        "id": "vAQZLh6lDagH"
      },
      "source": [
        "#[Introduction to Python for Science and Engineering](https://www.taylorfrancis.com/books/mono/10.1201/9780429506413/introduction-python-science-engineering-david-pine)\n",
        "\n",
        "###The following exercises correspond to chapter [3: Strings, Lists, Arrays, and Dictionaries](https://www.taylorfrancis.com/chapters/mono/10.1201/9780429506413-3/strings-lists-arrays-dictionaries-david-pine)\n",
        "\n",
        "[old manual (no library access required)](https://physics.nyu.edu/pine/pymanual/html/pymanMaster.html)\n",
        "[old link (no library access required)](https://physics.nyu.edu/pine/pymanual/html/chap3/chap3_arrays.html)"
      ]
    },
    {
      "cell_type": "code",
      "metadata": {
        "id": "9narVfFTwQ_M"
      },
      "source": [
        "##RUN THIS CODE BLOCK FIRST - it brings in functions like sin, cos, log, ... \n",
        "#in the future, we'll do things slightly differently to make your code more robust and portable...\n",
        "from numpy import *\n",
        "import numpy as np"
      ],
      "execution_count": null,
      "outputs": []
    },
    {
      "cell_type": "markdown",
      "metadata": {
        "id": "0rvmyQYoDm92"
      },
      "source": [
        "##3.6.1\n",
        "\n",
        "Create an array of 9 evenly spaced numbers going from 0 to 29 (inclusive) and give it a variable name $r$. Find the square of each element of the array (as simply as possible). Find twice the value of each element of the array in two different ways: ($i$) using addition and ($ii$) using multiplication. Use the print command to display the results."
      ]
    },
    {
      "cell_type": "code",
      "metadata": {
        "id": "2wHebld2DMyV",
        "colab": {
          "base_uri": "https://localhost:8080/"
        },
        "outputId": "72fb64d0-3f0a-4362-ad23-4ce18b171fc8"
      },
      "source": [
        "import numpy as np\n",
        "from fractions import Fraction\n",
        "r = np.linspace(0,29,9)\n",
        "print(r)\n",
        "\n",
        "r_square = r**2\n",
        "print(r_square) #clean enough?\n",
        "\n",
        "r_addition = r + r\n",
        "print(r_addition)\n",
        "\n",
        "r_mult = r*2\n",
        "print(r_mult)\n",
        "\n",
        "\n",
        "\n"
      ],
      "execution_count": null,
      "outputs": [
        {
          "output_type": "stream",
          "name": "stdout",
          "text": [
            "[ 0.     3.625  7.25  10.875 14.5   18.125 21.75  25.375 29.   ]\n",
            "[  0.        13.140625  52.5625   118.265625 210.25     328.515625\n",
            " 473.0625   643.890625 841.      ]\n",
            "[ 0.    7.25 14.5  21.75 29.   36.25 43.5  50.75 58.  ]\n",
            "[ 0.    7.25 14.5  21.75 29.   36.25 43.5  50.75 58.  ]\n"
          ]
        }
      ]
    },
    {
      "cell_type": "markdown",
      "metadata": {
        "id": "LvObVXDiEVeH"
      },
      "source": [
        "##3.6.2\n",
        "\n",
        "Create the following arrays:\n",
        "1. an array of 100 elements all equal to $e$, the base of the natural logarithm;\n",
        "1. an array in 1-degree increments of all the angles in degrees from 0 to 360 degrees;\n",
        "1. an array in 1-degree increments of all the angles in radians from 0 to 360 degrees;\n",
        "1. an array from 12 to 17, not including 17, in 0.2 increments;\n",
        "1. an array from 12 to 17, including 17, in 0.2 increments."
      ]
    },
    {
      "cell_type": "code",
      "metadata": {
        "id": "WNkLyTzHE2n9",
        "colab": {
          "base_uri": "https://localhost:8080/"
        },
        "outputId": "56f9d878-a4cd-4d57-9d17-9635cbbac7d1"
      },
      "source": [
        "from numpy import math #for the natural e\n",
        "e_array = np.linspace(math.e, math.e, 100) #print the value of E:https://www.w3schools.com/python/ref_math_e.asp\n",
        "print(e_array)\n",
        "\n",
        "degree = np.linspace(0,360,361)\n",
        "print(degree)\n",
        "\n",
        "radians = np.linspace(0,2*math.pi, 361)\n",
        "print (radians)\n",
        "\n",
        "no17_a = list(range(12*5,17*5,1))\n",
        "no17_a = np.array(no17_a)\n",
        "no17 = no17_a/5\n",
        "print(no17)\n",
        "\n",
        "p = np.linspace(12*5, 17*5, (17-12)*5+ 1)\n",
        "p = p/5\n",
        "print(p)\n",
        "\n"
      ],
      "execution_count": null,
      "outputs": [
        {
          "output_type": "stream",
          "name": "stdout",
          "text": [
            "[2.71828183 2.71828183 2.71828183 2.71828183 2.71828183 2.71828183\n",
            " 2.71828183 2.71828183 2.71828183 2.71828183 2.71828183 2.71828183\n",
            " 2.71828183 2.71828183 2.71828183 2.71828183 2.71828183 2.71828183\n",
            " 2.71828183 2.71828183 2.71828183 2.71828183 2.71828183 2.71828183\n",
            " 2.71828183 2.71828183 2.71828183 2.71828183 2.71828183 2.71828183\n",
            " 2.71828183 2.71828183 2.71828183 2.71828183 2.71828183 2.71828183\n",
            " 2.71828183 2.71828183 2.71828183 2.71828183 2.71828183 2.71828183\n",
            " 2.71828183 2.71828183 2.71828183 2.71828183 2.71828183 2.71828183\n",
            " 2.71828183 2.71828183 2.71828183 2.71828183 2.71828183 2.71828183\n",
            " 2.71828183 2.71828183 2.71828183 2.71828183 2.71828183 2.71828183\n",
            " 2.71828183 2.71828183 2.71828183 2.71828183 2.71828183 2.71828183\n",
            " 2.71828183 2.71828183 2.71828183 2.71828183 2.71828183 2.71828183\n",
            " 2.71828183 2.71828183 2.71828183 2.71828183 2.71828183 2.71828183\n",
            " 2.71828183 2.71828183 2.71828183 2.71828183 2.71828183 2.71828183\n",
            " 2.71828183 2.71828183 2.71828183 2.71828183 2.71828183 2.71828183\n",
            " 2.71828183 2.71828183 2.71828183 2.71828183 2.71828183 2.71828183\n",
            " 2.71828183 2.71828183 2.71828183 2.71828183]\n",
            "[  0.   1.   2.   3.   4.   5.   6.   7.   8.   9.  10.  11.  12.  13.\n",
            "  14.  15.  16.  17.  18.  19.  20.  21.  22.  23.  24.  25.  26.  27.\n",
            "  28.  29.  30.  31.  32.  33.  34.  35.  36.  37.  38.  39.  40.  41.\n",
            "  42.  43.  44.  45.  46.  47.  48.  49.  50.  51.  52.  53.  54.  55.\n",
            "  56.  57.  58.  59.  60.  61.  62.  63.  64.  65.  66.  67.  68.  69.\n",
            "  70.  71.  72.  73.  74.  75.  76.  77.  78.  79.  80.  81.  82.  83.\n",
            "  84.  85.  86.  87.  88.  89.  90.  91.  92.  93.  94.  95.  96.  97.\n",
            "  98.  99. 100. 101. 102. 103. 104. 105. 106. 107. 108. 109. 110. 111.\n",
            " 112. 113. 114. 115. 116. 117. 118. 119. 120. 121. 122. 123. 124. 125.\n",
            " 126. 127. 128. 129. 130. 131. 132. 133. 134. 135. 136. 137. 138. 139.\n",
            " 140. 141. 142. 143. 144. 145. 146. 147. 148. 149. 150. 151. 152. 153.\n",
            " 154. 155. 156. 157. 158. 159. 160. 161. 162. 163. 164. 165. 166. 167.\n",
            " 168. 169. 170. 171. 172. 173. 174. 175. 176. 177. 178. 179. 180. 181.\n",
            " 182. 183. 184. 185. 186. 187. 188. 189. 190. 191. 192. 193. 194. 195.\n",
            " 196. 197. 198. 199. 200. 201. 202. 203. 204. 205. 206. 207. 208. 209.\n",
            " 210. 211. 212. 213. 214. 215. 216. 217. 218. 219. 220. 221. 222. 223.\n",
            " 224. 225. 226. 227. 228. 229. 230. 231. 232. 233. 234. 235. 236. 237.\n",
            " 238. 239. 240. 241. 242. 243. 244. 245. 246. 247. 248. 249. 250. 251.\n",
            " 252. 253. 254. 255. 256. 257. 258. 259. 260. 261. 262. 263. 264. 265.\n",
            " 266. 267. 268. 269. 270. 271. 272. 273. 274. 275. 276. 277. 278. 279.\n",
            " 280. 281. 282. 283. 284. 285. 286. 287. 288. 289. 290. 291. 292. 293.\n",
            " 294. 295. 296. 297. 298. 299. 300. 301. 302. 303. 304. 305. 306. 307.\n",
            " 308. 309. 310. 311. 312. 313. 314. 315. 316. 317. 318. 319. 320. 321.\n",
            " 322. 323. 324. 325. 326. 327. 328. 329. 330. 331. 332. 333. 334. 335.\n",
            " 336. 337. 338. 339. 340. 341. 342. 343. 344. 345. 346. 347. 348. 349.\n",
            " 350. 351. 352. 353. 354. 355. 356. 357. 358. 359. 360.]\n",
            "[0.         0.01745329 0.03490659 0.05235988 0.06981317 0.08726646\n",
            " 0.10471976 0.12217305 0.13962634 0.15707963 0.17453293 0.19198622\n",
            " 0.20943951 0.2268928  0.2443461  0.26179939 0.27925268 0.29670597\n",
            " 0.31415927 0.33161256 0.34906585 0.36651914 0.38397244 0.40142573\n",
            " 0.41887902 0.43633231 0.45378561 0.4712389  0.48869219 0.50614548\n",
            " 0.52359878 0.54105207 0.55850536 0.57595865 0.59341195 0.61086524\n",
            " 0.62831853 0.64577182 0.66322512 0.68067841 0.6981317  0.71558499\n",
            " 0.73303829 0.75049158 0.76794487 0.78539816 0.80285146 0.82030475\n",
            " 0.83775804 0.85521133 0.87266463 0.89011792 0.90757121 0.9250245\n",
            " 0.9424778  0.95993109 0.97738438 0.99483767 1.01229097 1.02974426\n",
            " 1.04719755 1.06465084 1.08210414 1.09955743 1.11701072 1.13446401\n",
            " 1.15191731 1.1693706  1.18682389 1.20427718 1.22173048 1.23918377\n",
            " 1.25663706 1.27409035 1.29154365 1.30899694 1.32645023 1.34390352\n",
            " 1.36135682 1.37881011 1.3962634  1.41371669 1.43116999 1.44862328\n",
            " 1.46607657 1.48352986 1.50098316 1.51843645 1.53588974 1.55334303\n",
            " 1.57079633 1.58824962 1.60570291 1.6231562  1.6406095  1.65806279\n",
            " 1.67551608 1.69296937 1.71042267 1.72787596 1.74532925 1.76278254\n",
            " 1.78023584 1.79768913 1.81514242 1.83259571 1.85004901 1.8675023\n",
            " 1.88495559 1.90240888 1.91986218 1.93731547 1.95476876 1.97222205\n",
            " 1.98967535 2.00712864 2.02458193 2.04203522 2.05948852 2.07694181\n",
            " 2.0943951  2.11184839 2.12930169 2.14675498 2.16420827 2.18166156\n",
            " 2.19911486 2.21656815 2.23402144 2.25147474 2.26892803 2.28638132\n",
            " 2.30383461 2.32128791 2.3387412  2.35619449 2.37364778 2.39110108\n",
            " 2.40855437 2.42600766 2.44346095 2.46091425 2.47836754 2.49582083\n",
            " 2.51327412 2.53072742 2.54818071 2.565634   2.58308729 2.60054059\n",
            " 2.61799388 2.63544717 2.65290046 2.67035376 2.68780705 2.70526034\n",
            " 2.72271363 2.74016693 2.75762022 2.77507351 2.7925268  2.8099801\n",
            " 2.82743339 2.84488668 2.86233997 2.87979327 2.89724656 2.91469985\n",
            " 2.93215314 2.94960644 2.96705973 2.98451302 3.00196631 3.01941961\n",
            " 3.0368729  3.05432619 3.07177948 3.08923278 3.10668607 3.12413936\n",
            " 3.14159265 3.15904595 3.17649924 3.19395253 3.21140582 3.22885912\n",
            " 3.24631241 3.2637657  3.28121899 3.29867229 3.31612558 3.33357887\n",
            " 3.35103216 3.36848546 3.38593875 3.40339204 3.42084533 3.43829863\n",
            " 3.45575192 3.47320521 3.4906585  3.5081118  3.52556509 3.54301838\n",
            " 3.56047167 3.57792497 3.59537826 3.61283155 3.63028484 3.64773814\n",
            " 3.66519143 3.68264472 3.70009801 3.71755131 3.7350046  3.75245789\n",
            " 3.76991118 3.78736448 3.80481777 3.82227106 3.83972435 3.85717765\n",
            " 3.87463094 3.89208423 3.90953752 3.92699082 3.94444411 3.9618974\n",
            " 3.97935069 3.99680399 4.01425728 4.03171057 4.04916386 4.06661716\n",
            " 4.08407045 4.10152374 4.11897703 4.13643033 4.15388362 4.17133691\n",
            " 4.1887902  4.2062435  4.22369679 4.24115008 4.25860337 4.27605667\n",
            " 4.29350996 4.31096325 4.32841654 4.34586984 4.36332313 4.38077642\n",
            " 4.39822972 4.41568301 4.4331363  4.45058959 4.46804289 4.48549618\n",
            " 4.50294947 4.52040276 4.53785606 4.55530935 4.57276264 4.59021593\n",
            " 4.60766923 4.62512252 4.64257581 4.6600291  4.6774824  4.69493569\n",
            " 4.71238898 4.72984227 4.74729557 4.76474886 4.78220215 4.79965544\n",
            " 4.81710874 4.83456203 4.85201532 4.86946861 4.88692191 4.9043752\n",
            " 4.92182849 4.93928178 4.95673508 4.97418837 4.99164166 5.00909495\n",
            " 5.02654825 5.04400154 5.06145483 5.07890812 5.09636142 5.11381471\n",
            " 5.131268   5.14872129 5.16617459 5.18362788 5.20108117 5.21853446\n",
            " 5.23598776 5.25344105 5.27089434 5.28834763 5.30580093 5.32325422\n",
            " 5.34070751 5.3581608  5.3756141  5.39306739 5.41052068 5.42797397\n",
            " 5.44542727 5.46288056 5.48033385 5.49778714 5.51524044 5.53269373\n",
            " 5.55014702 5.56760031 5.58505361 5.6025069  5.61996019 5.63741348\n",
            " 5.65486678 5.67232007 5.68977336 5.70722665 5.72467995 5.74213324\n",
            " 5.75958653 5.77703982 5.79449312 5.81194641 5.8293997  5.84685299\n",
            " 5.86430629 5.88175958 5.89921287 5.91666616 5.93411946 5.95157275\n",
            " 5.96902604 5.98647933 6.00393263 6.02138592 6.03883921 6.0562925\n",
            " 6.0737458  6.09119909 6.10865238 6.12610567 6.14355897 6.16101226\n",
            " 6.17846555 6.19591884 6.21337214 6.23082543 6.24827872 6.26573201\n",
            " 6.28318531]\n",
            "[12.  12.2 12.4 12.6 12.8 13.  13.2 13.4 13.6 13.8 14.  14.2 14.4 14.6\n",
            " 14.8 15.  15.2 15.4 15.6 15.8 16.  16.2 16.4 16.6 16.8]\n",
            "[12.  12.2 12.4 12.6 12.8 13.  13.2 13.4 13.6 13.8 14.  14.2 14.4 14.6\n",
            " 14.8 15.  15.2 15.4 15.6 15.8 16.  16.2 16.4 16.6 16.8 17. ]\n"
          ]
        }
      ]
    },
    {
      "cell_type": "markdown",
      "metadata": {
        "id": "wEGz-9j0E5LS"
      },
      "source": [
        "##3.6.3\n",
        "\n",
        "The position of a ball at time $t$ dropped with zero initial velocity from a height $h_0$ is given by\n",
        "\n",
        "$y = h_0 - \\frac{1}{2} gt^2$\n",
        "\n",
        "where $g=9.8$ m/s$^2$. Suppose $h_0 = 10$ m. Find the sequence of times when the ball passes each half meter assuming the ball is dropped at $t=0$. Hint: Create a NumPy array for $y$ that goes from 10 to 0 in increments of -0.5 using the `arange` fucntion. Solving the above equation for $t$, we find that\n",
        "\n",
        "$t = \\sqrt{\\frac{2\\left(h_0 -y\\right)}{g}}$\n",
        "\n",
        "Using this equation and the array you created, find the sequence of times when the ball passes each half meter. Your code should yield the following results for the $y$ and $t$ arrays:\n",
        "\n",
        "```\n",
        "In [2]: y\n",
        "Out[2]: array([10. , 9.5, 9. , 8.5, 8. , 7.5, 7. , 6.5,\n",
        "                6. , 5.5, 5. , 4.5, 4. , 3.5, 3. , 2.5,\n",
        "                2. , 1.5, 1. , 0.5])\n",
        "\n",
        "In [3]: t\n",
        "Out[3]: array([ 0.        , 0.31943828, 0.45175395,\n",
        "                0.55328334, 0.63887656, 0.71428571,\n",
        "                0.7824608 , 0.84515425, 0.9035079 ,\n",
        "                0.95831485, 1.01015254, 1.05945693,\n",
        "                1.10656667, 1.15175111, 1.19522861,\n",
        "                1.23717915, 1.27775313, 1.31707778,\n",
        "                1.35526185, 1.39239919])\n",
        "```\n"
      ]
    },
    {
      "cell_type": "code",
      "metadata": {
        "id": "r9_4-QanqImi",
        "colab": {
          "base_uri": "https://localhost:8080/"
        },
        "outputId": "db79a4b1-d18b-483d-d06f-8daf241387e3"
      },
      "source": [
        "from numpy import math\n",
        "y = list(range(20, 0, -1))\n",
        "y = np.array(y)\n",
        "y = y/2\n",
        "print(y)\n",
        "\n",
        "h0 = 10\n",
        "g = 9.8\n",
        "\n",
        "t = []\n",
        "for i in y:\n",
        "  t_y = math.sqrt((2*(h0-i)/g))\n",
        "  t.append(t_y)\n",
        "\n",
        "t = np.array(t)\n",
        "print(t)\n"
      ],
      "execution_count": null,
      "outputs": [
        {
          "output_type": "stream",
          "name": "stdout",
          "text": [
            "[10.   9.5  9.   8.5  8.   7.5  7.   6.5  6.   5.5  5.   4.5  4.   3.5\n",
            "  3.   2.5  2.   1.5  1.   0.5]\n",
            "[0.         0.31943828 0.45175395 0.55328334 0.63887656 0.71428571\n",
            " 0.7824608  0.84515425 0.9035079  0.95831485 1.01015254 1.05945693\n",
            " 1.10656667 1.15175111 1.19522861 1.23717915 1.27775313 1.31707778\n",
            " 1.35526185 1.39239919]\n"
          ]
        }
      ]
    },
    {
      "cell_type": "markdown",
      "metadata": {
        "id": "mydPPWNGqMLi"
      },
      "source": [
        "##3.6.4\n",
        "\n",
        "Recalling that the average velocity over an interval $\\Delta t$ is defined as $\\bar{v}=\\Delta y/ \\Delta t$, find the average velocity for each time interval in the previous problem using NumPy arrays. Keep in mind that the number of time intervals is one less than the number of times. Hint: What are the arrays `y[1:20]` and `y[0:19]`? What does the array `y[1:20]-y[0:19]` represent? (Try printing out the two arrays from the IPython shell.) Using this last array and a similar one involving time, find the array of average velocities. Bonus: Can you think of a more elegant way of representing `y[1:20]-y[0:19]` that does not make explicit reference to the number of elements in the `y` array--one that would work for any length array?\n",
        "\n",
        "You should get the following answer for the array of velocities:\n",
        "\n",
        "```\n",
        "In [5]: v\n",
        "Out[5]: array([-1.56524758,  -3.77884195,  -4.9246827 ,\n",
        "               -5.84158351,  -6.63049517,  -7.3340579 ,\n",
        "               -7.97531375,  -8.56844457,  -9.12293148,\n",
        "               -9.64549022,  -10.14108641, -10.61351563,\n",
        "               -11.06575711, -11.50020061, -11.91879801,\n",
        "               -12.32316816, -12.71467146, -13.09446421,\n",
        "               -13.46353913])\n",
        "```\n"
      ]
    },
    {
      "cell_type": "code",
      "metadata": {
        "id": "G9HA1ONprik6",
        "colab": {
          "base_uri": "https://localhost:8080/"
        },
        "outputId": "f165ad3c-9835-4d59-87fa-1f183243fb3b"
      },
      "source": [
        "from numpy import math\n",
        "\n",
        "y = np.linspace(10, 0, 21)\n",
        "\n",
        "h0 = 10\n",
        "g = 9.8\n",
        "\n",
        "t = []\n",
        "for i in y:\n",
        "  t_y = math.sqrt((2*(h0-i)/g))\n",
        "  t.append(t_y)\n",
        "t = np.array(t)\n",
        "\n",
        "\n",
        "dy_array = y[1:20]-y[0:19]\n",
        "dt_array = t[1:20]-t[0:19]\n",
        "\n",
        "v = dy_array / dt_array\n",
        "\n",
        "print(v)"
      ],
      "execution_count": null,
      "outputs": [
        {
          "output_type": "stream",
          "name": "stdout",
          "text": [
            "[ -1.56524758  -3.77884195  -4.9246827   -5.84158351  -6.63049517\n",
            "  -7.3340579   -7.97531375  -8.56844457  -9.12293148  -9.64549022\n",
            " -10.14108641 -10.61351563 -11.06575711 -11.50020061 -11.91879801\n",
            " -12.32316816 -12.71467146 -13.09446421 -13.46353913]\n"
          ]
        }
      ]
    }
  ]
}